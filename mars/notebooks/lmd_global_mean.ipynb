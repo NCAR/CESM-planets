{
 "cells": [
  {
   "cell_type": "code",
   "execution_count": 1,
   "id": "c1349510-f24b-490b-a258-1fcc922caec8",
   "metadata": {},
   "outputs": [],
   "source": [
    "%matplotlib inline\n",
    "import matplotlib.pyplot as plt\n",
    "import numpy as np\n",
    "import xarray as xr"
   ]
  },
  {
   "cell_type": "markdown",
   "id": "a239e31b-febd-4bfc-bad5-a0a0765ca4f4",
   "metadata": {},
   "source": [
    "PEL: If you can put the hybrid coefficients into a file that would be great. Here is the template that the idealized Held-Suarez is using: /glade/p/cesmdata/inputdata/atm/cam/inic/cam_vcoords_L32_c180105.nc\n",
    "\n"
   ]
  },
  {
   "cell_type": "code",
   "execution_count": 2,
   "id": "9479b768-95f2-4619-8446-7f1fa0d10051",
   "metadata": {},
   "outputs": [
    {
     "name": "stdout",
     "output_type": "stream",
     "text": [
      "netcdf cam_vcoords_L32_c180105 {\n",
      "dimensions:\n",
      "\tscalar = 1 ;\n",
      "\tilev = 33 ;\n",
      "\tlev = 32 ;\n",
      "\tlat = 384 ;\n",
      "\tlon = 576 ;\n",
      "\tslat = 383 ;\n",
      "\tslon = 576 ;\n",
      "variables:\n",
      "\tdouble P0(scalar) ;\n",
      "\t\tP0:long_name = \"reference pressure\" ;\n",
      "\t\tP0:units = \"Pa\" ;\n",
      "\tdouble hyai(ilev) ;\n",
      "\t\thyai:long_name = \"hybrid A coefficient at layer interfaces\" ;\n",
      "\t\thyai:source_file = \"/glade/p/cesmdata/cseg/inputdata/atm/cam/inic/fv/cami-mam3_0000-01-01_0.9x1.25_L32_c141031.nc\" ;\n",
      "\tdouble hyam(lev) ;\n",
      "\t\thyam:long_name = \"hybrid A coefficient at layer midpoints\" ;\n",
      "\t\thyam:source_file = \"/glade/p/cesmdata/cseg/inputdata/atm/cam/inic/fv/cami-mam3_0000-01-01_0.9x1.25_L32_c141031.nc\" ;\n",
      "\tdouble hybi(ilev) ;\n",
      "\t\thybi:long_name = \"hybrid B coefficient at layer interfaces\" ;\n",
      "\t\thybi:source_file = \"/glade/p/cesmdata/cseg/inputdata/atm/cam/inic/fv/cami-mam3_0000-01-01_0.9x1.25_L32_c141031.nc\" ;\n",
      "\tdouble hybm(lev) ;\n",
      "\t\thybm:long_name = \"hybrid B coefficient at layer midpoints\" ;\n",
      "\t\thybm:source_file = \"/glade/p/cesmdata/cseg/inputdata/atm/cam/inic/fv/cami-mam3_0000-01-01_0.9x1.25_L32_c141031.nc\" ;\n",
      "\tdouble ilev(ilev) ;\n",
      "\t\tilev:long_name = \"hybrid level at interfaces (1000*(A+B))\" ;\n",
      "\t\tilev:units = \"level\" ;\n",
      "\t\tilev:positive = \"down\" ;\n",
      "\t\tilev:standard_name = \"atmosphere_hybrid_sigma_pressure_coordinate\" ;\n",
      "\t\tilev:formula_terms = \"a: hyai b: hybi p0: P0 ps: PS\" ;\n",
      "\t\tilev:source_file = \"/glade/p/cesmdata/cseg/inputdata/atm/cam/inic/fv/cami-mam3_0000-01-01_0.9x1.25_L32_c141031.nc\" ;\n",
      "\tdouble lev(lev) ;\n",
      "\t\tlev:long_name = \"hybrid level at midpoints (1000*(A+B))\" ;\n",
      "\t\tlev:units = \"level\" ;\n",
      "\t\tlev:positive = \"down\" ;\n",
      "\t\tlev:standard_name = \"atmosphere_hybrid_sigma_pressure_coordinate\" ;\n",
      "\t\tlev:formula_terms = \"a: hyam b: hybm p0: P0 ps: PS\" ;\n",
      "\t\tlev:source_file = \"/glade/p/cesmdata/cseg/inputdata/atm/cam/inic/fv/cami-mam3_0000-01-01_0.9x1.25_L32_c141031.nc\" ;\n",
      "\tdouble lat(lat) ;\n",
      "\t\tlat:long_name = \"latitude\" ;\n",
      "\t\tlat:units = \"degrees_north\" ;\n",
      "\tdouble lon(lon) ;\n",
      "\t\tlon:long_name = \"longitude\" ;\n",
      "\t\tlon:units = \"degrees_east\" ;\n",
      "\tdouble slat(slat) ;\n",
      "\t\tslat:long_name = \"staggered latitude\" ;\n",
      "\t\tslat:units = \"degrees_north\" ;\n",
      "\tdouble slon(slon) ;\n",
      "\t\tslon:long_name = \"staggered longitude\" ;\n",
      "\t\tslon:units = \"degrees_east\" ;\n",
      "\n",
      "// global attributes:\n",
      "\t\t:Conventions = \"CF-1.0\" ;\n",
      "\t\t:Description = \"Re-gridded CAM Initial Conditions from the following source(s):\" ;\n",
      "\t\t:source1 = \"/glade/p/umia0018/FC5AQUAP_sstQobs_1degFV_nconst_aeroOff/run/FC5AQUAP_sstQobs_1degFV_nconst_aeroOff.cam.i.0006-01-01-00000.nc\" ;\n",
      "\t\t:source_lev_info = \"/glade/p/cesmdata/cseg/inputdata/atm/cam/inic/fv/cami-mam3_0000-01-01_0.9x1.25_L32_c141031.nc\" ;\n",
      "\t\t:hybrid_sigma_pressure = \"p(i,j,k) = A(k)*PO + B(k)*PS(i,j)\" ;\n",
      "\t\t:logname = \"tilmes\" ;\n",
      "\t\t:host = \"cheyenne4\" ;\n",
      "\t\t:hosttype = \"x86_64-linux\" ;\n",
      "\t\t:Command = \"NCL script\" ;\n",
      "\t\t:Date_Written = \"Thu Oct 20 17:49:57 MDT 2016\" ;\n",
      "\t\t:case = \"f.e20.FSDC.f05_g16.atmo.chem01_cam5_4_152.001\" ;\n",
      "\t\t:q_adjust = \"True; Eliminate super-saturation\" ;\n",
      "\t\t:interp_log_ps = \"True; Interpolate ln(Ps) rather than Ps\" ;\n",
      "\t\t:original_file_name = \"     /glade/p/umia0018/FC5AQUAP_sstQobs_1degFV_nconst_aeroOff/run/FC5AQUAP_sstQobs_1degFV_nconst_aeroOff.cam.i.0006-01-01-00000.nc\" ;\n",
      "\t\t:original_file_desc = \"     Jan 1 of Year 6 spin-up of a fixed-SST CAM5.3-FV aquaplanet run (with set_option = 3, corresponding to the QOBS SST profile)\" ;\n",
      "\t\t:original_file_res = \"      L30, 1-deg resolution\" ;\n",
      "\t\t:original_file_aero = \"     All aerosols other than sea-salt have been removed.\" ;\n",
      "\t\t:original_file_micro = \"    MG1.5 microphys package is used, with constant ice crystal and cloud droplet number concentrations.\" ;\n",
      "\t\t:original_file_CO2 = \"      CCSM_CO2_PPMV = 348.\" ;\n",
      "\t\t:original_file_notes = \"    For unknown reasons, we could not completely eliminate sulphur-based aerosols, but they are 7 orders of magnitude less than an Earth-like run\" ;\n",
      "\t\t:history = \"Mon Mar 23 10:25:40 2020: ncks -A fv_0.47x0.63_coord.nc /glade/p/cesmdata/cseg/inputdata/atm/cam/inic/cam_vcoords_L32_c180105.nc\\n\",\n",
      "\t\t\t\"Mon Mar 23 10:23:49 2020: ncks -v slat,lat,slon,lon f.e20.FSDC.f05_g16.atmo.chem01_cam5_4_152.001.cam.i.2016-03-01-00000.nc fv_0.47x0.63_coord.nc\" ;\n",
      "\t\t:NCO = \"\\\"4.6.2\\\"\" ;\n",
      "\t\t:source = \"CAM\" ;\n",
      "\t\t:title = \"UNSET\" ;\n",
      "\t\t:Version = \"$Name$\" ;\n",
      "\t\t:revision_Id = \"$Id$\" ;\n",
      "\t\t:initial_file = \"/glade/p/acd/tilmes/inputdata/init/cesm2/f.e20.FSDC.f05_g16.atmo.chem01_cam5_4_152.001.cam.i.2016-12-01-00000.nc\" ;\n",
      "\t\t:topography_file = \"/glade/p/acd/tilmes/inputdata/topo/fv_0.47x0.63_nc3000_Co030_Fi001_PF_nullRR_Nsw021_geos5_20171024.nc\" ;\n",
      "\t\t:time_period_freq = \"day_1\" ;\n",
      "\t\t:history_of_appended_files = \"Mon Mar 23 10:25:40 2020: Appended file fv_0.47x0.63_coord.nc had following \\\"history\\\" attribute:\\n\",\n",
      "\t\t\t\"Mon Mar 23 10:23:49 2020: ncks -v slat,lat,slon,lon f.e20.FSDC.f05_g16.atmo.chem01_cam5_4_152.001.cam.i.2016-03-01-00000.nc fv_0.47x0.63_coord.nc\\n\",\n",
      "\t\t\t\"\" ;\n",
      "}\n"
     ]
    }
   ],
   "source": [
    "!ncdump -h /glade/p/cesmdata/inputdata/atm/cam/inic/cam_vcoords_L32_c180105.nc"
   ]
  },
  {
   "cell_type": "code",
   "execution_count": 3,
   "id": "4c2d31fa-2a2f-4d66-9f70-83549b0c1f85",
   "metadata": {},
   "outputs": [],
   "source": [
    "# open MCD v5.3 zonal mean data file\n",
    "ds = xr.open_dataset('../data/MCD_v5.3_zonal_mean.nc')"
   ]
  },
  {
   "cell_type": "code",
   "execution_count": 4,
   "id": "dd6cbaf9-7cac-4ffb-850d-a7dae5687a61",
   "metadata": {},
   "outputs": [
    {
     "ename": "AttributeError",
     "evalue": "'Dataset' object has no attribute 'temp'",
     "output_type": "error",
     "traceback": [
      "\u001b[0;31m---------------------------------------------------------------------------\u001b[0m",
      "\u001b[0;31mAttributeError\u001b[0m                            Traceback (most recent call last)",
      "Input \u001b[0;32mIn [4]\u001b[0m, in \u001b[0;36m<cell line: 2>\u001b[0;34m()\u001b[0m\n\u001b[1;32m      1\u001b[0m ps \u001b[38;5;241m=\u001b[39m ds\u001b[38;5;241m.\u001b[39mps \u001b[38;5;66;03m# zonal mean suface pressure\u001b[39;00m\n\u001b[0;32m----> 2\u001b[0m t \u001b[38;5;241m=\u001b[39m \u001b[43mds\u001b[49m\u001b[38;5;241;43m.\u001b[39;49m\u001b[43mtemp\u001b[49m \u001b[38;5;66;03m# temperature (K)\u001b[39;00m\n\u001b[1;32m      3\u001b[0m aps \u001b[38;5;241m=\u001b[39m ds\u001b[38;5;241m.\u001b[39maps \u001b[38;5;66;03m# hybrid pressure at midlayers\u001b[39;00m\n\u001b[1;32m      4\u001b[0m bps \u001b[38;5;241m=\u001b[39m ds\u001b[38;5;241m.\u001b[39mbps \u001b[38;5;66;03m# hubrid sigma at midlayers\u001b[39;00m\n",
      "File \u001b[0;32m/glade/work/marsh/miniconda3/envs/default/lib/python3.9/site-packages/xarray/core/common.py:239\u001b[0m, in \u001b[0;36mAttrAccessMixin.__getattr__\u001b[0;34m(self, name)\u001b[0m\n\u001b[1;32m    237\u001b[0m         \u001b[38;5;28;01mwith\u001b[39;00m suppress(\u001b[38;5;167;01mKeyError\u001b[39;00m):\n\u001b[1;32m    238\u001b[0m             \u001b[38;5;28;01mreturn\u001b[39;00m source[name]\n\u001b[0;32m--> 239\u001b[0m \u001b[38;5;28;01mraise\u001b[39;00m \u001b[38;5;167;01mAttributeError\u001b[39;00m(\n\u001b[1;32m    240\u001b[0m     \u001b[38;5;124m\"\u001b[39m\u001b[38;5;132;01m{!r}\u001b[39;00m\u001b[38;5;124m object has no attribute \u001b[39m\u001b[38;5;132;01m{!r}\u001b[39;00m\u001b[38;5;124m\"\u001b[39m\u001b[38;5;241m.\u001b[39mformat(\u001b[38;5;28mtype\u001b[39m(\u001b[38;5;28mself\u001b[39m)\u001b[38;5;241m.\u001b[39m\u001b[38;5;18m__name__\u001b[39m, name)\n\u001b[1;32m    241\u001b[0m )\n",
      "\u001b[0;31mAttributeError\u001b[0m: 'Dataset' object has no attribute 'temp'"
     ]
    }
   ],
   "source": [
    "ps = ds.ps # zonal mean suface pressure\n",
    "t = ds.t # temperature (K)\n",
    "aps = ds.aps # hybrid pressure at midlayers\n",
    "bps = ds.bps # hubrid sigma at midlayers\n",
    "zkm = ds.altitude "
   ]
  },
  {
   "cell_type": "code",
   "execution_count": null,
   "id": "b607379e-b756-4f98-801d-8985fe033879",
   "metadata": {},
   "outputs": [],
   "source": [
    "weights = np.cos(np.deg2rad(ds.latitude))\n",
    "weights.name = \"weights\"\n",
    "\n",
    "gmt = t0.weighted(weights).mean('latitude'\n",
    "p0 = ds.ps.weighted(weights).mean('latitude')"
   ]
  },
  {
   "cell_type": "code",
   "execution_count": null,
   "id": "5226df8f-0609-4a0d-8d30-2daec5429307",
   "metadata": {},
   "outputs": [],
   "source": [
    "pPa = aps+bps*p0\n",
    "plt.semilogx(pPa,zkm)\n"
   ]
  },
  {
   "cell_type": "code",
   "execution_count": null,
   "id": "8c633ca8-223d-4749-8bf7-422daad01151",
   "metadata": {},
   "outputs": [],
   "source": [
    "plt.semilogy(gmt,pPa)\n",
    "ax = plt.gca()\n",
    "ax.set_ylim(1e3,1e-2)\n",
    "ax.set_xlim(120,220)\n",
    "\n",
    "plt.show()"
   ]
  },
  {
   "cell_type": "code",
   "execution_count": null,
   "id": "27f13a4d-847c-4cb2-8b79-efdbc5c0dbb1",
   "metadata": {},
   "outputs": [],
   "source": [
    "ds"
   ]
  },
  {
   "cell_type": "code",
   "execution_count": null,
   "id": "379c0642-bbb0-46c4-9221-fb59822e5e47",
   "metadata": {},
   "outputs": [],
   "source": [
    "for i in np.arange(29,0,-1):\n",
    "    print(aps[i].values, bps[i].values, pPa[i].values, gmt[i].values)"
   ]
  },
  {
   "cell_type": "code",
   "execution_count": null,
   "id": "a936052a-f941-44d6-a8aa-8cf0c40c6b21",
   "metadata": {},
   "outputs": [],
   "source": [
    "print('gm PS:', p0.values)\n",
    "print('lev = aps+bps*p0 \\n', pPa.values)\n",
    "print('bps\\n', bps.values)\n",
    "print('aps\\n', aps.values)\n",
    "print('gm T\\n', gmt.values)"
   ]
  },
  {
   "cell_type": "code",
   "execution_count": null,
   "id": "133f743f-0cdf-4173-80ea-edf1f481a845",
   "metadata": {},
   "outputs": [],
   "source": [
    "ds"
   ]
  },
  {
   "cell_type": "code",
   "execution_count": null,
   "id": "9d1c2e30-24a2-4e9a-9ed2-7661eef8b344",
   "metadata": {},
   "outputs": [],
   "source": []
  }
 ],
 "metadata": {
  "kernelspec": {
   "display_name": "Python [conda env:miniconda3-default]",
   "language": "python",
   "name": "conda-env-miniconda3-default-py"
  },
  "language_info": {
   "codemirror_mode": {
    "name": "ipython",
    "version": 3
   },
   "file_extension": ".py",
   "mimetype": "text/x-python",
   "name": "python",
   "nbconvert_exporter": "python",
   "pygments_lexer": "ipython3",
   "version": "3.9.5"
  }
 },
 "nbformat": 4,
 "nbformat_minor": 5
}
