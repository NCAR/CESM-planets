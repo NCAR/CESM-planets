{
 "cells": [
  {
   "cell_type": "code",
   "execution_count": null,
   "id": "355fbf84-5171-4aed-8e4e-f652a33439a0",
   "metadata": {},
   "outputs": [],
   "source": [
    "import matplotlib.pyplot as plt\n",
    "import numpy as np\n",
    "import xarray as xr"
   ]
  },
  {
   "cell_type": "code",
   "execution_count": null,
   "id": "02fbe550-a057-440c-9d58-18a3ec70e35c",
   "metadata": {},
   "outputs": [],
   "source": [
    "ds = xr.open_dataset(\"cam_vcoords_L32_c180105.nc\")"
   ]
  },
  {
   "cell_type": "markdown",
   "id": "a3a284bb-ddcf-456f-90aa-a5127a06ef83",
   "metadata": {},
   "source": [
    "In cam pressures at each hybrid level using the formula: $p(k) = a(k)p0 + b(k)ps$\n",
    "Some models output a hybrid component, $ap(k) [=a(k)p0]$, which has units of pressure. This must be made dimensionless prior to use. $lev = 1000.(ds.hybm+ds.hyam)$ (1000 is $p0$ in hPa)"
   ]
  },
  {
   "cell_type": "code",
   "execution_count": null,
   "id": "9a7d789b-ce1e-4f05-a5b0-3af1a1ef7126",
   "metadata": {},
   "outputs": [],
   "source": [
    "ds"
   ]
  },
  {
   "cell_type": "code",
   "execution_count": null,
   "id": "63d42e27-4a43-4913-9ebd-a6ac3b2571e4",
   "metadata": {},
   "outputs": [],
   "source": [
    "dsm = xr.open_dataset(\"LMD_MARS_r2801_grid.nc\")"
   ]
  },
  {
   "cell_type": "code",
   "execution_count": null,
   "id": "4a0dbc53-cff8-4721-953f-fea40560c890",
   "metadata": {},
   "outputs": [],
   "source": [
    "dsm"
   ]
  },
  {
   "cell_type": "code",
   "execution_count": null,
   "id": "67330a7c-795c-4be1-b584-7e91191315bc",
   "metadata": {},
   "outputs": [],
   "source": [
    "P0 = 610. # Pa\n",
    "\n",
    "# Fix last ap value - change from 0 pressure to \n",
    "# half the pressure of interface layer one below\n",
    "dsm.ap[-1] = 0.5*dsm.ap[-2]\n",
    "\n",
    "# create ouput hybrid arrays - note CESM order is reversed\n",
    "outfile = \"mars_cam_vcoords_L49_c221220.nc\"\n",
    "\n",
    "# hybrid pressure at interlayers\n",
    "hyai = dsm.ap.values[::-1]/P0 \n",
    "hybi = dsm.bp.values[::-1]\n",
    "\n",
    "# hybrid pressure at midlayers\n",
    "hyam = dsm.aps.values[::-1]/P0\n",
    "hybm = dsm.bps.values[::-1]\n",
    "\n",
    "outfile = \"mars_cam_vcoords_L32_c221220.nc\"\n",
    "\n",
    "# hybrid pressure at interlayers\n",
    "hyai = dsm.ap.values[32::-1]/P0 \n",
    "hybi = dsm.bp.values[32::-1]\n",
    "\n",
    "# hybrid pressure at midlayers\n",
    "hyam = dsm.aps.values[31::-1]/P0\n",
    "hybm = dsm.bps.values[31::-1]\n",
    "\n",
    "outfile = \"mars_cam_vcoords_L49_c221220.nc\"\n",
    "\n",
    "# hybrid pressure at interlayers\n",
    "hyai = dsm.ap.values[::-1]/P0 \n",
    "hybi = dsm.bp.values[::-1]\n",
    "\n",
    "# hybrid pressure at midlayers\n",
    "hyam = dsm.aps.values[::-1]/P0\n",
    "hybm = dsm.bps.values[::-1]"
   ]
  },
  {
   "cell_type": "markdown",
   "id": "00bb415b-8bb8-438b-b9e7-5046dd205263",
   "metadata": {},
   "source": [
    "This vertical coordinate is a hybrid coordinate in which vertical levels $l$ are at pressure $P$ :\n",
    "$P (l) = aps(l) + bps(l) × PS$\n",
    "where $PS$ is surface pressure. Coefficients $aps(l)$ and $bps(l)$ are respectively hybrid pressure and hybrid sigma levels. In its present form the database extends over 49 levels. computed using a surface pressure of 610 Pa."
   ]
  },
  {
   "cell_type": "code",
   "execution_count": null,
   "id": "db5c3fe1-fb36-4172-ba37-6965d59474f3",
   "metadata": {},
   "outputs": [],
   "source": [
    "lev = (hyam + hybm)*P0*1e-2 \n",
    "ilev = (hyai + hybi)*P0*1e-2 "
   ]
  },
  {
   "cell_type": "code",
   "execution_count": null,
   "id": "cc286d8e-bcc6-4ae3-bd75-11ad0570de5a",
   "metadata": {},
   "outputs": [],
   "source": [
    "plt.semilogy(lev, marker='.')\n",
    "plt.show()"
   ]
  },
  {
   "cell_type": "code",
   "execution_count": null,
   "id": "8496487b-5a9a-4b99-9062-5ebbe1f5cf77",
   "metadata": {},
   "outputs": [],
   "source": [
    "plt.semilogy(ilev, marker='.')\n",
    "plt.show()"
   ]
  },
  {
   "cell_type": "code",
   "execution_count": null,
   "id": "4a9e55ad-8b33-492c-a3d2-9430a7aa7abb",
   "metadata": {},
   "outputs": [],
   "source": [
    "print(lev)"
   ]
  },
  {
   "cell_type": "code",
   "execution_count": null,
   "id": "21ce9f6e-3416-4c09-bfcc-98de21043779",
   "metadata": {},
   "outputs": [],
   "source": [
    "print(ilev)"
   ]
  },
  {
   "cell_type": "code",
   "execution_count": null,
   "id": "21948e21-9631-48bc-bf53-28bd7e8f3baa",
   "metadata": {},
   "outputs": [],
   "source": [
    "dsout = xr.Dataset({\n",
    "    'P0': xr.DataArray(\n",
    "        data = P0,\n",
    "        attrs = {\n",
    "            'long_name': 'reference pressure',\n",
    "            'units': 'Pa'\n",
    "            }\n",
    "        ),\n",
    "    'hyai': xr.DataArray(\n",
    "                data   = hyai,  \n",
    "                dims   = ['ilev'],\n",
    "                coords = {'ilev': ilev},\n",
    "                attrs  = {\n",
    "                    'long_name': 'hybrid A coefficient at layer interfaces'\n",
    "                    }\n",
    "                ),\n",
    "    'hybi': xr.DataArray(\n",
    "                data   = hybi,  \n",
    "                dims   = ['ilev'],\n",
    "                coords = {'ilev': ilev},\n",
    "                attrs  = {\n",
    "                    'long_name': 'hybrid B coefficient at layer interfaces'\n",
    "                    }\n",
    "                ),\n",
    "    'hyam': xr.DataArray(\n",
    "                data   = hyam,  \n",
    "                dims   = ['lev'],\n",
    "                coords = {'lev': lev},\n",
    "                attrs  = {\n",
    "                    'long_name': 'hybrid A coefficient at layer midpoints'\n",
    "                    }\n",
    "                ),\n",
    "    'hybm': xr.DataArray(\n",
    "                data   = hybm,  \n",
    "                dims   = ['lev'],\n",
    "                coords = {'lev': lev},\n",
    "                attrs  = {\n",
    "                    'long_name': 'hybrid B coefficient at layer midpoints'\n",
    "                    }\n",
    "                )\n",
    "            },\n",
    "     attrs = {'hybrid_sigma_pressure': 'p(i,j,k) = A(k)*PO + B(k)*PS(i,j)',\n",
    "              'author': 'Dan Marsh',\n",
    "              'created': '2002-12-20',\n",
    "              'original grid source': 'MARS CLIMATE DATABASE v5.3'\n",
    "             }\n",
    "    )\n",
    "dsout['lev'].attrs['long_name']=\"hybrid level at midpoints (p0*1e-2*(A+B))\"\n",
    "dsout['lev'].attrs['formula_terms']=\"A: hyam B: hybm p0: P0\"\n",
    "dsout['lev'].attrs['units']=\"hPa\"\n",
    "\n",
    "dsout['ilev'].attrs['long_name']=\"hybrid level at interfaces (p0*1e-2*(A+B))\"\n",
    "dsout['ilev'].attrs['formula_terms']=\"A: hyai B: hybi p0: P0\"\n",
    "dsout['ilev'].attrs['units']=\"hPa\"\n"
   ]
  },
  {
   "cell_type": "code",
   "execution_count": null,
   "id": "4beae409-c35f-4eae-9b0d-bd43fac94ebd",
   "metadata": {},
   "outputs": [],
   "source": [
    "dsout"
   ]
  },
  {
   "cell_type": "code",
   "execution_count": null,
   "id": "f5b764c9-d76d-4452-8f85-c73690594ada",
   "metadata": {},
   "outputs": [],
   "source": [
    "outfile = \"mars_cam_vcoords_L49_c221221_netcdf3.nc\"\n",
    "\n",
    "dsout.to_netcdf(outfile, format=\"NETCDF3_64BIT\")"
   ]
  },
  {
   "cell_type": "code",
   "execution_count": null,
   "id": "784b54bd-a919-41e8-85ce-84d03b732f93",
   "metadata": {},
   "outputs": [],
   "source": [
    "!ncdump mars_cam_vcoords_L49_c221221_netcdf3.nc"
   ]
  },
  {
   "cell_type": "code",
   "execution_count": null,
   "id": "c79c314e-f0c9-49ce-bc5e-c8eb1eeed7f9",
   "metadata": {},
   "outputs": [],
   "source": [
    "!ncdump -k mars_cam_vcoords_L49_c221221_netcdf3.nc"
   ]
  },
  {
   "cell_type": "code",
   "execution_count": null,
   "id": "f7a77732-034e-4cce-8bf5-f14959f14e8b",
   "metadata": {},
   "outputs": [],
   "source": [
    "outfile = \"mars_cam_vcoords_L49_c221221_netcdf3classic.nc\"\n",
    "\n",
    "dsout.to_netcdf(outfile, format=\"NETCDF3_CLASSIC\")\n",
    "\n",
    "!ncdump -k mars_cam_vcoords_L49_c221221_netcdf3classic.nc"
   ]
  },
  {
   "cell_type": "code",
   "execution_count": 2,
   "id": "587f8468-ebcd-4b3c-ad2c-5092e43ab741",
   "metadata": {},
   "outputs": [
    {
     "name": "stdout",
     "output_type": "stream",
     "text": [
      "total 452\n",
      "-rw-r--r-- 1 marsh p19010000  21956 Jul  8 13:34 cam_vcoords_L32_c180105.nc\n",
      "-rw-r--r-- 1 marsh p19010000   2324 Dec 20 16:14 LMD_MARS_r2801_grid.nc\n",
      "-rw-r--r-- 1 marsh p19010000  11608 Dec 21 13:53 mars_cam_vcoords_L32_c221220.nc\n",
      "-rw-r--r-- 1 marsh p19010000  11608 Dec 21 13:59 mars_cam_vcoords_L49_c221220.nc\n",
      "-rw-r--r-- 1 marsh p19010000   2536 Dec 21 15:31 mars_cam_vcoords_L49_c221221_netcdf3.nc\n",
      "-rw-r--r-- 1 marsh p19010000   2508 Dec 21 15:32 mars_cam_vcoords_L49_c221221_netcdf3classic.nc\n",
      "-rw-r--r-- 1 marsh p19010000   2888 Dec 21 15:36 mars_cam_vcoords_L49_c221221_netcdf3_cdf5.nc\n",
      "-rw-r--r-- 1 marsh p19010000 148890 Dec 21 16:12 grid.ipynb\n"
     ]
    }
   ],
   "source": [
    "!ls -ltr"
   ]
  },
  {
   "cell_type": "code",
   "execution_count": 1,
   "id": "af2b0994-0d0e-46a4-822e-86ed2f83dafb",
   "metadata": {},
   "outputs": [
    {
     "name": "stdout",
     "output_type": "stream",
     "text": [
      "/glade/u/home/marsh/projects/CESM-planets/mars/grids\n"
     ]
    }
   ],
   "source": [
    "!pwd"
   ]
  },
  {
   "cell_type": "code",
   "execution_count": null,
   "id": "7d6eb1f8-3283-473e-b4ba-0e42c090b593",
   "metadata": {},
   "outputs": [],
   "source": []
  }
 ],
 "metadata": {
  "kernelspec": {
   "display_name": "Python [conda env:miniconda3-default]",
   "language": "python",
   "name": "conda-env-miniconda3-default-py"
  },
  "language_info": {
   "codemirror_mode": {
    "name": "ipython",
    "version": 3
   },
   "file_extension": ".py",
   "mimetype": "text/x-python",
   "name": "python",
   "nbconvert_exporter": "python",
   "pygments_lexer": "ipython3",
   "version": "3.9.5"
  }
 },
 "nbformat": 4,
 "nbformat_minor": 5
}
